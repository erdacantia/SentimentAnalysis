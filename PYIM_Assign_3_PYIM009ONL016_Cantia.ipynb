{
  "nbformat": 4,
  "nbformat_minor": 0,
  "metadata": {
    "colab": {
      "name": "PYIM_Assign_3_PYIM009ONL016_Cantia.ipynb",
      "provenance": [],
      "collapsed_sections": []
    },
    "kernelspec": {
      "name": "python3",
      "display_name": "Python 3"
    },
    "language_info": {
      "name": "python"
    },
    "accelerator": "GPU"
  },
  "cells": [
    {
      "cell_type": "markdown",
      "metadata": {
        "id": "2TJZh0ayGexc"
      },
      "source": [
        "#**Assignment 3**"
      ]
    },
    {
      "cell_type": "code",
      "metadata": {
        "id": "OuiwV_WsGO48"
      },
      "source": [
        "import pandas as pd\n",
        "import numpy as np\n",
        "\n",
        "import tensorflow as tf\n",
        "import tensorflow_datasets as tfds\n",
        "from tensorflow import keras\n",
        "from tensorflow.keras import utils\n",
        "from sklearn.preprocessing import LabelEncoder\n",
        "\n",
        "import gzip\n",
        "import csv\n",
        "import os\n",
        "import shutil\n",
        "import matplotlib.pyplot as plt\n",
        "\n",
        "%matplotlib inline\n",
        "import matplotlib as mpl"
      ],
      "execution_count": 1,
      "outputs": []
    },
    {
      "cell_type": "markdown",
      "metadata": {
        "id": "CW5ZW3WpJyNV"
      },
      "source": [
        "##**Load Dataset**"
      ]
    },
    {
      "cell_type": "code",
      "metadata": {
        "colab": {
          "base_uri": "https://localhost:8080/"
        },
        "id": "c3HKLYrZJ1el",
        "outputId": "a0de0c18-4f16-432b-eef1-7f86f60f1805"
      },
      "source": [
        "!wget https://s3.amazonaws.com/amazon-reviews-pds/tsv/amazon_reviews_us_Personal_Care_Appliances_v1_00.tsv.gz"
      ],
      "execution_count": 2,
      "outputs": [
        {
          "output_type": "stream",
          "name": "stdout",
          "text": [
            "--2021-12-01 04:04:23--  https://s3.amazonaws.com/amazon-reviews-pds/tsv/amazon_reviews_us_Personal_Care_Appliances_v1_00.tsv.gz\n",
            "Resolving s3.amazonaws.com (s3.amazonaws.com)... 52.216.140.238\n",
            "Connecting to s3.amazonaws.com (s3.amazonaws.com)|52.216.140.238|:443... connected.\n",
            "HTTP request sent, awaiting response... 200 OK\n",
            "Length: 17634794 (17M) [application/x-gzip]\n",
            "Saving to: ‘amazon_reviews_us_Personal_Care_Appliances_v1_00.tsv.gz’\n",
            "\n",
            "amazon_reviews_us_P 100%[===================>]  16.82M  14.6MB/s    in 1.2s    \n",
            "\n",
            "2021-12-01 04:04:24 (14.6 MB/s) - ‘amazon_reviews_us_Personal_Care_Appliances_v1_00.tsv.gz’ saved [17634794/17634794]\n",
            "\n"
          ]
        }
      ]
    },
    {
      "cell_type": "markdown",
      "metadata": {
        "id": "AJ2N5Q7tLd5V"
      },
      "source": [
        "##**Decompress File Dataset**"
      ]
    },
    {
      "cell_type": "code",
      "metadata": {
        "id": "jNhgVswDK_Fv"
      },
      "source": [
        "with gzip.open('amazon_reviews_us_Personal_Care_Appliances_v1_00.tsv.gz','rb') as f1:\n",
        "  with open('amazon_reviews_us_Personal_Care_Appliances_v1_00.tsv','wb') as f2:\n",
        "    shutil.copyfileobj(f1,f2)"
      ],
      "execution_count": 3,
      "outputs": []
    },
    {
      "cell_type": "markdown",
      "metadata": {
        "id": "6gWk3OvZLiNG"
      },
      "source": [
        "#**Read Dataset**"
      ]
    },
    {
      "cell_type": "code",
      "metadata": {
        "colab": {
          "base_uri": "https://localhost:8080/"
        },
        "id": "9SyFF5mFLhl7",
        "outputId": "1e4fe4e0-384f-4f60-d063-b3009361686a"
      },
      "source": [
        "data = pd.read_csv('amazon_reviews_us_Personal_Care_Appliances_v1_00.tsv',delimiter ='\\t', error_bad_lines=False)"
      ],
      "execution_count": 5,
      "outputs": [
        {
          "output_type": "stream",
          "name": "stderr",
          "text": [
            "b'Skipping line 1598: expected 15 fields, saw 22\\nSkipping line 25768: expected 15 fields, saw 22\\n'\n"
          ]
        }
      ]
    },
    {
      "cell_type": "code",
      "metadata": {
        "colab": {
          "base_uri": "https://localhost:8080/",
          "height": 518
        },
        "id": "nazR42_7L9IQ",
        "outputId": "49f6ac41-7171-4617-85ff-adce478772d4"
      },
      "source": [
        "data.head(10)"
      ],
      "execution_count": 6,
      "outputs": [
        {
          "output_type": "execute_result",
          "data": {
            "text/html": [
              "<div>\n",
              "<style scoped>\n",
              "    .dataframe tbody tr th:only-of-type {\n",
              "        vertical-align: middle;\n",
              "    }\n",
              "\n",
              "    .dataframe tbody tr th {\n",
              "        vertical-align: top;\n",
              "    }\n",
              "\n",
              "    .dataframe thead th {\n",
              "        text-align: right;\n",
              "    }\n",
              "</style>\n",
              "<table border=\"1\" class=\"dataframe\">\n",
              "  <thead>\n",
              "    <tr style=\"text-align: right;\">\n",
              "      <th></th>\n",
              "      <th>marketplace</th>\n",
              "      <th>customer_id</th>\n",
              "      <th>review_id</th>\n",
              "      <th>product_id</th>\n",
              "      <th>product_parent</th>\n",
              "      <th>product_title</th>\n",
              "      <th>product_category</th>\n",
              "      <th>star_rating</th>\n",
              "      <th>helpful_votes</th>\n",
              "      <th>total_votes</th>\n",
              "      <th>vine</th>\n",
              "      <th>verified_purchase</th>\n",
              "      <th>review_headline</th>\n",
              "      <th>review_body</th>\n",
              "      <th>review_date</th>\n",
              "    </tr>\n",
              "  </thead>\n",
              "  <tbody>\n",
              "    <tr>\n",
              "      <th>0</th>\n",
              "      <td>US</td>\n",
              "      <td>32114233</td>\n",
              "      <td>R1QX6706ZWJ1P5</td>\n",
              "      <td>B00OYRW4UE</td>\n",
              "      <td>223980852</td>\n",
              "      <td>Elite Sportz Exercise Sliders are Double Sided...</td>\n",
              "      <td>Personal_Care_Appliances</td>\n",
              "      <td>5</td>\n",
              "      <td>0</td>\n",
              "      <td>0</td>\n",
              "      <td>N</td>\n",
              "      <td>Y</td>\n",
              "      <td>Good quality. Shipped</td>\n",
              "      <td>Exactly as described. Good quality. Shipped fast</td>\n",
              "      <td>2015-08-31</td>\n",
              "    </tr>\n",
              "    <tr>\n",
              "      <th>1</th>\n",
              "      <td>US</td>\n",
              "      <td>18125776</td>\n",
              "      <td>R3QWMLJHIW6P37</td>\n",
              "      <td>B0000537JQ</td>\n",
              "      <td>819771537</td>\n",
              "      <td>Ezy Dose Weekly</td>\n",
              "      <td>Personal_Care_Appliances</td>\n",
              "      <td>5</td>\n",
              "      <td>0</td>\n",
              "      <td>0</td>\n",
              "      <td>N</td>\n",
              "      <td>Y</td>\n",
              "      <td>Five Stars</td>\n",
              "      <td>It is great</td>\n",
              "      <td>2015-08-31</td>\n",
              "    </tr>\n",
              "    <tr>\n",
              "      <th>2</th>\n",
              "      <td>US</td>\n",
              "      <td>19917519</td>\n",
              "      <td>R14Z1VR1N0Z9G6</td>\n",
              "      <td>B00HXXO332</td>\n",
              "      <td>849307176</td>\n",
              "      <td>Pulse Oximeter, Blood Oxygen Monitor</td>\n",
              "      <td>Personal_Care_Appliances</td>\n",
              "      <td>5</td>\n",
              "      <td>1</td>\n",
              "      <td>1</td>\n",
              "      <td>N</td>\n",
              "      <td>Y</td>\n",
              "      <td>It's really nice it works great</td>\n",
              "      <td>It's really nice it works great. You have the ...</td>\n",
              "      <td>2015-08-31</td>\n",
              "    </tr>\n",
              "    <tr>\n",
              "      <th>3</th>\n",
              "      <td>US</td>\n",
              "      <td>18277171</td>\n",
              "      <td>R25ZRJL0GH0U0</td>\n",
              "      <td>B00EOB0JA2</td>\n",
              "      <td>700864740</td>\n",
              "      <td>SE Tools Tool Kit Watch Watch Repair Kit (20 P...</td>\n",
              "      <td>Personal_Care_Appliances</td>\n",
              "      <td>2</td>\n",
              "      <td>0</td>\n",
              "      <td>0</td>\n",
              "      <td>N</td>\n",
              "      <td>Y</td>\n",
              "      <td>Two Stars</td>\n",
              "      <td>The kit works fine... simple cheap plastic tho</td>\n",
              "      <td>2015-08-31</td>\n",
              "    </tr>\n",
              "    <tr>\n",
              "      <th>4</th>\n",
              "      <td>US</td>\n",
              "      <td>2593270</td>\n",
              "      <td>R3837KYH7AZNIY</td>\n",
              "      <td>B00OC2O1UC</td>\n",
              "      <td>794298839</td>\n",
              "      <td>doTERRA HD Clear Facial Kit - Facial Lotion, F...</td>\n",
              "      <td>Personal_Care_Appliances</td>\n",
              "      <td>4</td>\n",
              "      <td>0</td>\n",
              "      <td>1</td>\n",
              "      <td>N</td>\n",
              "      <td>Y</td>\n",
              "      <td>Four Stars</td>\n",
              "      <td>It works better than anything else ive tried</td>\n",
              "      <td>2015-08-31</td>\n",
              "    </tr>\n",
              "    <tr>\n",
              "      <th>5</th>\n",
              "      <td>US</td>\n",
              "      <td>2592955</td>\n",
              "      <td>R2MN0QYCY6EVIV</td>\n",
              "      <td>B00HES9CMS</td>\n",
              "      <td>318730927</td>\n",
              "      <td>Viva Naturals #1 Best Selling Certified Organi...</td>\n",
              "      <td>Personal_Care_Appliances</td>\n",
              "      <td>5</td>\n",
              "      <td>0</td>\n",
              "      <td>0</td>\n",
              "      <td>N</td>\n",
              "      <td>Y</td>\n",
              "      <td>not bad at all</td>\n",
              "      <td>I added to my oatmeal and protein shakes, not ...</td>\n",
              "      <td>2015-08-31</td>\n",
              "    </tr>\n",
              "    <tr>\n",
              "      <th>6</th>\n",
              "      <td>US</td>\n",
              "      <td>15168265</td>\n",
              "      <td>R3AN2UJ1D42ZS0</td>\n",
              "      <td>B0016BFR4G</td>\n",
              "      <td>887476137</td>\n",
              "      <td>Uncle Lee's Organic Green Tea -- 100 Tea Bags ...</td>\n",
              "      <td>Personal_Care_Appliances</td>\n",
              "      <td>5</td>\n",
              "      <td>0</td>\n",
              "      <td>0</td>\n",
              "      <td>N</td>\n",
              "      <td>Y</td>\n",
              "      <td>Mild, enjoyable taste.</td>\n",
              "      <td>Husband drinks this green tea every morning an...</td>\n",
              "      <td>2015-08-31</td>\n",
              "    </tr>\n",
              "    <tr>\n",
              "      <th>7</th>\n",
              "      <td>US</td>\n",
              "      <td>13761624</td>\n",
              "      <td>R3U29ZLUWEEK4M</td>\n",
              "      <td>B00K504UUG</td>\n",
              "      <td>458706868</td>\n",
              "      <td>Syrtenty Electrodes - Multiple size and quanti...</td>\n",
              "      <td>Personal_Care_Appliances</td>\n",
              "      <td>5</td>\n",
              "      <td>0</td>\n",
              "      <td>0</td>\n",
              "      <td>N</td>\n",
              "      <td>Y</td>\n",
              "      <td>Five Stars</td>\n",
              "      <td>Good quality.</td>\n",
              "      <td>2015-08-31</td>\n",
              "    </tr>\n",
              "    <tr>\n",
              "      <th>8</th>\n",
              "      <td>US</td>\n",
              "      <td>37070734</td>\n",
              "      <td>R16ZDMJJHK796C</td>\n",
              "      <td>B00HES9CMS</td>\n",
              "      <td>318730927</td>\n",
              "      <td>Viva Naturals #1 Best Selling Certified Organi...</td>\n",
              "      <td>Personal_Care_Appliances</td>\n",
              "      <td>5</td>\n",
              "      <td>0</td>\n",
              "      <td>0</td>\n",
              "      <td>N</td>\n",
              "      <td>N</td>\n",
              "      <td>High Quality</td>\n",
              "      <td>This is high quality cacao powder. I would pur...</td>\n",
              "      <td>2015-08-31</td>\n",
              "    </tr>\n",
              "    <tr>\n",
              "      <th>9</th>\n",
              "      <td>US</td>\n",
              "      <td>29615023</td>\n",
              "      <td>RRRDOEJZD1Y22</td>\n",
              "      <td>B00P6TUO5G</td>\n",
              "      <td>170248843</td>\n",
              "      <td>Viva Naturals Organic Non-GMO Cacao Powder, 2 ...</td>\n",
              "      <td>Personal_Care_Appliances</td>\n",
              "      <td>4</td>\n",
              "      <td>0</td>\n",
              "      <td>0</td>\n",
              "      <td>N</td>\n",
              "      <td>Y</td>\n",
              "      <td>we like it</td>\n",
              "      <td>Buying more products with health benefits in m...</td>\n",
              "      <td>2015-08-31</td>\n",
              "    </tr>\n",
              "  </tbody>\n",
              "</table>\n",
              "</div>"
            ],
            "text/plain": [
              "  marketplace  ...  review_date\n",
              "0          US  ...   2015-08-31\n",
              "1          US  ...   2015-08-31\n",
              "2          US  ...   2015-08-31\n",
              "3          US  ...   2015-08-31\n",
              "4          US  ...   2015-08-31\n",
              "5          US  ...   2015-08-31\n",
              "6          US  ...   2015-08-31\n",
              "7          US  ...   2015-08-31\n",
              "8          US  ...   2015-08-31\n",
              "9          US  ...   2015-08-31\n",
              "\n",
              "[10 rows x 15 columns]"
            ]
          },
          "metadata": {},
          "execution_count": 6
        }
      ]
    },
    {
      "cell_type": "code",
      "metadata": {
        "colab": {
          "base_uri": "https://localhost:8080/",
          "height": 276
        },
        "id": "iWWD55RyMD_r",
        "outputId": "326cd642-3961-4aae-95e2-e0faf5ceb1b7"
      },
      "source": [
        "data1 = data.copy()\n",
        "data1.head()"
      ],
      "execution_count": 7,
      "outputs": [
        {
          "output_type": "execute_result",
          "data": {
            "text/html": [
              "<div>\n",
              "<style scoped>\n",
              "    .dataframe tbody tr th:only-of-type {\n",
              "        vertical-align: middle;\n",
              "    }\n",
              "\n",
              "    .dataframe tbody tr th {\n",
              "        vertical-align: top;\n",
              "    }\n",
              "\n",
              "    .dataframe thead th {\n",
              "        text-align: right;\n",
              "    }\n",
              "</style>\n",
              "<table border=\"1\" class=\"dataframe\">\n",
              "  <thead>\n",
              "    <tr style=\"text-align: right;\">\n",
              "      <th></th>\n",
              "      <th>marketplace</th>\n",
              "      <th>customer_id</th>\n",
              "      <th>review_id</th>\n",
              "      <th>product_id</th>\n",
              "      <th>product_parent</th>\n",
              "      <th>product_title</th>\n",
              "      <th>product_category</th>\n",
              "      <th>star_rating</th>\n",
              "      <th>helpful_votes</th>\n",
              "      <th>total_votes</th>\n",
              "      <th>vine</th>\n",
              "      <th>verified_purchase</th>\n",
              "      <th>review_headline</th>\n",
              "      <th>review_body</th>\n",
              "      <th>review_date</th>\n",
              "    </tr>\n",
              "  </thead>\n",
              "  <tbody>\n",
              "    <tr>\n",
              "      <th>0</th>\n",
              "      <td>US</td>\n",
              "      <td>32114233</td>\n",
              "      <td>R1QX6706ZWJ1P5</td>\n",
              "      <td>B00OYRW4UE</td>\n",
              "      <td>223980852</td>\n",
              "      <td>Elite Sportz Exercise Sliders are Double Sided...</td>\n",
              "      <td>Personal_Care_Appliances</td>\n",
              "      <td>5</td>\n",
              "      <td>0</td>\n",
              "      <td>0</td>\n",
              "      <td>N</td>\n",
              "      <td>Y</td>\n",
              "      <td>Good quality. Shipped</td>\n",
              "      <td>Exactly as described. Good quality. Shipped fast</td>\n",
              "      <td>2015-08-31</td>\n",
              "    </tr>\n",
              "    <tr>\n",
              "      <th>1</th>\n",
              "      <td>US</td>\n",
              "      <td>18125776</td>\n",
              "      <td>R3QWMLJHIW6P37</td>\n",
              "      <td>B0000537JQ</td>\n",
              "      <td>819771537</td>\n",
              "      <td>Ezy Dose Weekly</td>\n",
              "      <td>Personal_Care_Appliances</td>\n",
              "      <td>5</td>\n",
              "      <td>0</td>\n",
              "      <td>0</td>\n",
              "      <td>N</td>\n",
              "      <td>Y</td>\n",
              "      <td>Five Stars</td>\n",
              "      <td>It is great</td>\n",
              "      <td>2015-08-31</td>\n",
              "    </tr>\n",
              "    <tr>\n",
              "      <th>2</th>\n",
              "      <td>US</td>\n",
              "      <td>19917519</td>\n",
              "      <td>R14Z1VR1N0Z9G6</td>\n",
              "      <td>B00HXXO332</td>\n",
              "      <td>849307176</td>\n",
              "      <td>Pulse Oximeter, Blood Oxygen Monitor</td>\n",
              "      <td>Personal_Care_Appliances</td>\n",
              "      <td>5</td>\n",
              "      <td>1</td>\n",
              "      <td>1</td>\n",
              "      <td>N</td>\n",
              "      <td>Y</td>\n",
              "      <td>It's really nice it works great</td>\n",
              "      <td>It's really nice it works great. You have the ...</td>\n",
              "      <td>2015-08-31</td>\n",
              "    </tr>\n",
              "    <tr>\n",
              "      <th>3</th>\n",
              "      <td>US</td>\n",
              "      <td>18277171</td>\n",
              "      <td>R25ZRJL0GH0U0</td>\n",
              "      <td>B00EOB0JA2</td>\n",
              "      <td>700864740</td>\n",
              "      <td>SE Tools Tool Kit Watch Watch Repair Kit (20 P...</td>\n",
              "      <td>Personal_Care_Appliances</td>\n",
              "      <td>2</td>\n",
              "      <td>0</td>\n",
              "      <td>0</td>\n",
              "      <td>N</td>\n",
              "      <td>Y</td>\n",
              "      <td>Two Stars</td>\n",
              "      <td>The kit works fine... simple cheap plastic tho</td>\n",
              "      <td>2015-08-31</td>\n",
              "    </tr>\n",
              "    <tr>\n",
              "      <th>4</th>\n",
              "      <td>US</td>\n",
              "      <td>2593270</td>\n",
              "      <td>R3837KYH7AZNIY</td>\n",
              "      <td>B00OC2O1UC</td>\n",
              "      <td>794298839</td>\n",
              "      <td>doTERRA HD Clear Facial Kit - Facial Lotion, F...</td>\n",
              "      <td>Personal_Care_Appliances</td>\n",
              "      <td>4</td>\n",
              "      <td>0</td>\n",
              "      <td>1</td>\n",
              "      <td>N</td>\n",
              "      <td>Y</td>\n",
              "      <td>Four Stars</td>\n",
              "      <td>It works better than anything else ive tried</td>\n",
              "      <td>2015-08-31</td>\n",
              "    </tr>\n",
              "  </tbody>\n",
              "</table>\n",
              "</div>"
            ],
            "text/plain": [
              "  marketplace  ...  review_date\n",
              "0          US  ...   2015-08-31\n",
              "1          US  ...   2015-08-31\n",
              "2          US  ...   2015-08-31\n",
              "3          US  ...   2015-08-31\n",
              "4          US  ...   2015-08-31\n",
              "\n",
              "[5 rows x 15 columns]"
            ]
          },
          "metadata": {},
          "execution_count": 7
        }
      ]
    },
    {
      "cell_type": "code",
      "metadata": {
        "colab": {
          "base_uri": "https://localhost:8080/"
        },
        "id": "2g4tAZnEMK9D",
        "outputId": "e58a3193-0a51-412c-cabd-13130b147671"
      },
      "source": [
        "data1.info()"
      ],
      "execution_count": 10,
      "outputs": [
        {
          "output_type": "stream",
          "name": "stdout",
          "text": [
            "<class 'pandas.core.frame.DataFrame'>\n",
            "RangeIndex: 85924 entries, 0 to 85923\n",
            "Data columns (total 15 columns):\n",
            " #   Column             Non-Null Count  Dtype \n",
            "---  ------             --------------  ----- \n",
            " 0   marketplace        85924 non-null  object\n",
            " 1   customer_id        85924 non-null  int64 \n",
            " 2   review_id          85924 non-null  object\n",
            " 3   product_id         85924 non-null  object\n",
            " 4   product_parent     85924 non-null  int64 \n",
            " 5   product_title      85920 non-null  object\n",
            " 6   product_category   85924 non-null  object\n",
            " 7   star_rating        85924 non-null  int64 \n",
            " 8   helpful_votes      85924 non-null  int64 \n",
            " 9   total_votes        85924 non-null  int64 \n",
            " 10  vine               85924 non-null  object\n",
            " 11  verified_purchase  85924 non-null  object\n",
            " 12  review_headline    85923 non-null  object\n",
            " 13  review_body        85924 non-null  object\n",
            " 14  review_date        85924 non-null  object\n",
            "dtypes: int64(5), object(10)\n",
            "memory usage: 9.8+ MB\n"
          ]
        }
      ]
    },
    {
      "cell_type": "markdown",
      "metadata": {
        "id": "DfPro9jTMZ94"
      },
      "source": [
        "##**Cleaning Dataset**"
      ]
    },
    {
      "cell_type": "code",
      "metadata": {
        "colab": {
          "base_uri": "https://localhost:8080/"
        },
        "id": "1wvcFku1MZd6",
        "outputId": "99b88478-a982-4fae-bc18-e5c4f2e7362e"
      },
      "source": [
        "data1.dropna(inplace=True)\n",
        "data1.drop_duplicates()\n",
        "data1.shape\n",
        "#Berdasarkan hasil cleaning, ada 5 data yang hilang"
      ],
      "execution_count": 15,
      "outputs": [
        {
          "output_type": "execute_result",
          "data": {
            "text/plain": [
              "(85919, 15)"
            ]
          },
          "metadata": {},
          "execution_count": 15
        }
      ]
    },
    {
      "cell_type": "markdown",
      "metadata": {
        "id": "TLlfc2LCMyP9"
      },
      "source": [
        "##**Splitting Dataset**"
      ]
    },
    {
      "cell_type": "code",
      "metadata": {
        "colab": {
          "base_uri": "https://localhost:8080/",
          "height": 206
        },
        "id": "euvspMQEMxfK",
        "outputId": "6be756e0-91df-496e-fcb4-2e7f0650974f"
      },
      "source": [
        "data1 = data1[:10000] \n",
        "datasplit = data1[['review_body','star_rating']]\n",
        "datasplit.head()"
      ],
      "execution_count": 22,
      "outputs": [
        {
          "output_type": "execute_result",
          "data": {
            "text/html": [
              "<div>\n",
              "<style scoped>\n",
              "    .dataframe tbody tr th:only-of-type {\n",
              "        vertical-align: middle;\n",
              "    }\n",
              "\n",
              "    .dataframe tbody tr th {\n",
              "        vertical-align: top;\n",
              "    }\n",
              "\n",
              "    .dataframe thead th {\n",
              "        text-align: right;\n",
              "    }\n",
              "</style>\n",
              "<table border=\"1\" class=\"dataframe\">\n",
              "  <thead>\n",
              "    <tr style=\"text-align: right;\">\n",
              "      <th></th>\n",
              "      <th>review_body</th>\n",
              "      <th>star_rating</th>\n",
              "    </tr>\n",
              "  </thead>\n",
              "  <tbody>\n",
              "    <tr>\n",
              "      <th>0</th>\n",
              "      <td>Exactly as described. Good quality. Shipped fast</td>\n",
              "      <td>5</td>\n",
              "    </tr>\n",
              "    <tr>\n",
              "      <th>1</th>\n",
              "      <td>It is great</td>\n",
              "      <td>5</td>\n",
              "    </tr>\n",
              "    <tr>\n",
              "      <th>2</th>\n",
              "      <td>It's really nice it works great. You have the ...</td>\n",
              "      <td>5</td>\n",
              "    </tr>\n",
              "    <tr>\n",
              "      <th>3</th>\n",
              "      <td>The kit works fine... simple cheap plastic tho</td>\n",
              "      <td>2</td>\n",
              "    </tr>\n",
              "    <tr>\n",
              "      <th>4</th>\n",
              "      <td>It works better than anything else ive tried</td>\n",
              "      <td>4</td>\n",
              "    </tr>\n",
              "  </tbody>\n",
              "</table>\n",
              "</div>"
            ],
            "text/plain": [
              "                                         review_body  star_rating\n",
              "0   Exactly as described. Good quality. Shipped fast            5\n",
              "1                                        It is great            5\n",
              "2  It's really nice it works great. You have the ...            5\n",
              "3     The kit works fine... simple cheap plastic tho            2\n",
              "4       It works better than anything else ive tried            4"
            ]
          },
          "metadata": {},
          "execution_count": 22
        }
      ]
    },
    {
      "cell_type": "code",
      "metadata": {
        "colab": {
          "base_uri": "https://localhost:8080/"
        },
        "id": "S-K24ojuN0Hx",
        "outputId": "ee22b6b7-2807-4f37-d112-f838654d8bf1"
      },
      "source": [
        "datasplit.info()"
      ],
      "execution_count": 23,
      "outputs": [
        {
          "output_type": "stream",
          "name": "stdout",
          "text": [
            "<class 'pandas.core.frame.DataFrame'>\n",
            "Int64Index: 10000 entries, 0 to 9999\n",
            "Data columns (total 2 columns):\n",
            " #   Column       Non-Null Count  Dtype \n",
            "---  ------       --------------  ----- \n",
            " 0   review_body  10000 non-null  object\n",
            " 1   star_rating  10000 non-null  int64 \n",
            "dtypes: int64(1), object(1)\n",
            "memory usage: 234.4+ KB\n"
          ]
        }
      ]
    },
    {
      "cell_type": "code",
      "metadata": {
        "colab": {
          "base_uri": "https://localhost:8080/",
          "height": 206
        },
        "id": "K6vZGZoOOAom",
        "outputId": "8f8926a1-13df-4049-d195-7c5064e92830"
      },
      "source": [
        "star_rating = pd.DataFrame({'rating_value':datasplit['star_rating']})\n",
        "star_rating.head()"
      ],
      "execution_count": 25,
      "outputs": [
        {
          "output_type": "execute_result",
          "data": {
            "text/html": [
              "<div>\n",
              "<style scoped>\n",
              "    .dataframe tbody tr th:only-of-type {\n",
              "        vertical-align: middle;\n",
              "    }\n",
              "\n",
              "    .dataframe tbody tr th {\n",
              "        vertical-align: top;\n",
              "    }\n",
              "\n",
              "    .dataframe thead th {\n",
              "        text-align: right;\n",
              "    }\n",
              "</style>\n",
              "<table border=\"1\" class=\"dataframe\">\n",
              "  <thead>\n",
              "    <tr style=\"text-align: right;\">\n",
              "      <th></th>\n",
              "      <th>rating_value</th>\n",
              "    </tr>\n",
              "  </thead>\n",
              "  <tbody>\n",
              "    <tr>\n",
              "      <th>0</th>\n",
              "      <td>5</td>\n",
              "    </tr>\n",
              "    <tr>\n",
              "      <th>1</th>\n",
              "      <td>5</td>\n",
              "    </tr>\n",
              "    <tr>\n",
              "      <th>2</th>\n",
              "      <td>5</td>\n",
              "    </tr>\n",
              "    <tr>\n",
              "      <th>3</th>\n",
              "      <td>2</td>\n",
              "    </tr>\n",
              "    <tr>\n",
              "      <th>4</th>\n",
              "      <td>4</td>\n",
              "    </tr>\n",
              "  </tbody>\n",
              "</table>\n",
              "</div>"
            ],
            "text/plain": [
              "   rating_value\n",
              "0             5\n",
              "1             5\n",
              "2             5\n",
              "3             2\n",
              "4             4"
            ]
          },
          "metadata": {},
          "execution_count": 25
        }
      ]
    },
    {
      "cell_type": "markdown",
      "metadata": {
        "id": "MMrH1AqbOV5l"
      },
      "source": [
        "##**Add Sentiment**\n"
      ]
    },
    {
      "cell_type": "code",
      "metadata": {
        "colab": {
          "base_uri": "https://localhost:8080/",
          "height": 423
        },
        "id": "0uc_KhsnOZ4G",
        "outputId": "8d85d2bb-45fa-4a3b-9f38-7c7bc79b4569"
      },
      "source": [
        "star_rating.loc[star_rating.rating_value>=3,'sentiment'] = 'positive'\n",
        "star_rating.loc[star_rating.rating_value<3,'sentiment'] = 'negative'\n",
        "star_rating"
      ],
      "execution_count": 27,
      "outputs": [
        {
          "output_type": "execute_result",
          "data": {
            "text/html": [
              "<div>\n",
              "<style scoped>\n",
              "    .dataframe tbody tr th:only-of-type {\n",
              "        vertical-align: middle;\n",
              "    }\n",
              "\n",
              "    .dataframe tbody tr th {\n",
              "        vertical-align: top;\n",
              "    }\n",
              "\n",
              "    .dataframe thead th {\n",
              "        text-align: right;\n",
              "    }\n",
              "</style>\n",
              "<table border=\"1\" class=\"dataframe\">\n",
              "  <thead>\n",
              "    <tr style=\"text-align: right;\">\n",
              "      <th></th>\n",
              "      <th>rating_value</th>\n",
              "      <th>sentiment</th>\n",
              "    </tr>\n",
              "  </thead>\n",
              "  <tbody>\n",
              "    <tr>\n",
              "      <th>0</th>\n",
              "      <td>5</td>\n",
              "      <td>positive</td>\n",
              "    </tr>\n",
              "    <tr>\n",
              "      <th>1</th>\n",
              "      <td>5</td>\n",
              "      <td>positive</td>\n",
              "    </tr>\n",
              "    <tr>\n",
              "      <th>2</th>\n",
              "      <td>5</td>\n",
              "      <td>positive</td>\n",
              "    </tr>\n",
              "    <tr>\n",
              "      <th>3</th>\n",
              "      <td>2</td>\n",
              "      <td>negative</td>\n",
              "    </tr>\n",
              "    <tr>\n",
              "      <th>4</th>\n",
              "      <td>4</td>\n",
              "      <td>positive</td>\n",
              "    </tr>\n",
              "    <tr>\n",
              "      <th>...</th>\n",
              "      <td>...</td>\n",
              "      <td>...</td>\n",
              "    </tr>\n",
              "    <tr>\n",
              "      <th>9995</th>\n",
              "      <td>5</td>\n",
              "      <td>positive</td>\n",
              "    </tr>\n",
              "    <tr>\n",
              "      <th>9996</th>\n",
              "      <td>5</td>\n",
              "      <td>positive</td>\n",
              "    </tr>\n",
              "    <tr>\n",
              "      <th>9997</th>\n",
              "      <td>5</td>\n",
              "      <td>positive</td>\n",
              "    </tr>\n",
              "    <tr>\n",
              "      <th>9998</th>\n",
              "      <td>3</td>\n",
              "      <td>positive</td>\n",
              "    </tr>\n",
              "    <tr>\n",
              "      <th>9999</th>\n",
              "      <td>2</td>\n",
              "      <td>negative</td>\n",
              "    </tr>\n",
              "  </tbody>\n",
              "</table>\n",
              "<p>10000 rows × 2 columns</p>\n",
              "</div>"
            ],
            "text/plain": [
              "      rating_value sentiment\n",
              "0                5  positive\n",
              "1                5  positive\n",
              "2                5  positive\n",
              "3                2  negative\n",
              "4                4  positive\n",
              "...            ...       ...\n",
              "9995             5  positive\n",
              "9996             5  positive\n",
              "9997             5  positive\n",
              "9998             3  positive\n",
              "9999             2  negative\n",
              "\n",
              "[10000 rows x 2 columns]"
            ]
          },
          "metadata": {},
          "execution_count": 27
        }
      ]
    },
    {
      "cell_type": "code",
      "metadata": {
        "colab": {
          "base_uri": "https://localhost:8080/"
        },
        "id": "LRvMlNApOmOk",
        "outputId": "fca83fe6-1033-486d-8fc5-746919a3b3a6"
      },
      "source": [
        "star_rating.info()"
      ],
      "execution_count": 28,
      "outputs": [
        {
          "output_type": "stream",
          "name": "stdout",
          "text": [
            "<class 'pandas.core.frame.DataFrame'>\n",
            "Int64Index: 10000 entries, 0 to 9999\n",
            "Data columns (total 2 columns):\n",
            " #   Column        Non-Null Count  Dtype \n",
            "---  ------        --------------  ----- \n",
            " 0   rating_value  10000 non-null  int64 \n",
            " 1   sentiment     10000 non-null  object\n",
            "dtypes: int64(1), object(1)\n",
            "memory usage: 234.4+ KB\n"
          ]
        }
      ]
    },
    {
      "cell_type": "code",
      "metadata": {
        "colab": {
          "base_uri": "https://localhost:8080/"
        },
        "id": "dP03vewjOuSn",
        "outputId": "9c21d424-8d82-46a9-9c37-976ef7b8dea4"
      },
      "source": [
        "object1=[star_rating.columns[index]for index, dtype in enumerate(star_rating.dtypes)if dtype =='object']\n",
        "object1"
      ],
      "execution_count": 30,
      "outputs": [
        {
          "output_type": "execute_result",
          "data": {
            "text/plain": [
              "['sentiment']"
            ]
          },
          "metadata": {},
          "execution_count": 30
        }
      ]
    },
    {
      "cell_type": "code",
      "metadata": {
        "colab": {
          "base_uri": "https://localhost:8080/"
        },
        "id": "8H6op-rOO3nz",
        "outputId": "99a8f721-2bb9-4b75-b261-d6c9c6bba4af"
      },
      "source": [
        "#cek keunikan data\n",
        "for column in object1:\n",
        "  print(f'{column}:{star_rating[column].unique()}')"
      ],
      "execution_count": 31,
      "outputs": [
        {
          "output_type": "stream",
          "name": "stdout",
          "text": [
            "sentiment:['positive' 'negative']\n"
          ]
        }
      ]
    },
    {
      "cell_type": "code",
      "metadata": {
        "colab": {
          "base_uri": "https://localhost:8080/",
          "height": 206
        },
        "id": "9W5x-biHPBYX",
        "outputId": "211d5c87-2864-4679-8b8a-782d27cb4677"
      },
      "source": [
        "encoder = LabelEncoder()\n",
        "for column in object1:\n",
        " star_rating[column]=encoder.fit_transform(star_rating[column])\n",
        "\n",
        "star_rating.head()"
      ],
      "execution_count": 34,
      "outputs": [
        {
          "output_type": "execute_result",
          "data": {
            "text/html": [
              "<div>\n",
              "<style scoped>\n",
              "    .dataframe tbody tr th:only-of-type {\n",
              "        vertical-align: middle;\n",
              "    }\n",
              "\n",
              "    .dataframe tbody tr th {\n",
              "        vertical-align: top;\n",
              "    }\n",
              "\n",
              "    .dataframe thead th {\n",
              "        text-align: right;\n",
              "    }\n",
              "</style>\n",
              "<table border=\"1\" class=\"dataframe\">\n",
              "  <thead>\n",
              "    <tr style=\"text-align: right;\">\n",
              "      <th></th>\n",
              "      <th>rating_value</th>\n",
              "      <th>sentiment</th>\n",
              "    </tr>\n",
              "  </thead>\n",
              "  <tbody>\n",
              "    <tr>\n",
              "      <th>0</th>\n",
              "      <td>5</td>\n",
              "      <td>1</td>\n",
              "    </tr>\n",
              "    <tr>\n",
              "      <th>1</th>\n",
              "      <td>5</td>\n",
              "      <td>1</td>\n",
              "    </tr>\n",
              "    <tr>\n",
              "      <th>2</th>\n",
              "      <td>5</td>\n",
              "      <td>1</td>\n",
              "    </tr>\n",
              "    <tr>\n",
              "      <th>3</th>\n",
              "      <td>2</td>\n",
              "      <td>0</td>\n",
              "    </tr>\n",
              "    <tr>\n",
              "      <th>4</th>\n",
              "      <td>4</td>\n",
              "      <td>1</td>\n",
              "    </tr>\n",
              "  </tbody>\n",
              "</table>\n",
              "</div>"
            ],
            "text/plain": [
              "   rating_value  sentiment\n",
              "0             5          1\n",
              "1             5          1\n",
              "2             5          1\n",
              "3             2          0\n",
              "4             4          1"
            ]
          },
          "metadata": {},
          "execution_count": 34
        }
      ]
    },
    {
      "cell_type": "code",
      "metadata": {
        "colab": {
          "base_uri": "https://localhost:8080/",
          "height": 206
        },
        "id": "gOum0C6SPOdG",
        "outputId": "8c7ca7d3-60f8-49a6-febb-5e37358745eb"
      },
      "source": [
        "dataset1 = pd.concat([datasplit,star_rating],axis=1)\n",
        "dataset1.drop(['star_rating','rating_value'],axis=1,inplace=True)\n",
        "dataset1.head()"
      ],
      "execution_count": 37,
      "outputs": [
        {
          "output_type": "execute_result",
          "data": {
            "text/html": [
              "<div>\n",
              "<style scoped>\n",
              "    .dataframe tbody tr th:only-of-type {\n",
              "        vertical-align: middle;\n",
              "    }\n",
              "\n",
              "    .dataframe tbody tr th {\n",
              "        vertical-align: top;\n",
              "    }\n",
              "\n",
              "    .dataframe thead th {\n",
              "        text-align: right;\n",
              "    }\n",
              "</style>\n",
              "<table border=\"1\" class=\"dataframe\">\n",
              "  <thead>\n",
              "    <tr style=\"text-align: right;\">\n",
              "      <th></th>\n",
              "      <th>review_body</th>\n",
              "      <th>sentiment</th>\n",
              "    </tr>\n",
              "  </thead>\n",
              "  <tbody>\n",
              "    <tr>\n",
              "      <th>0</th>\n",
              "      <td>Exactly as described. Good quality. Shipped fast</td>\n",
              "      <td>1</td>\n",
              "    </tr>\n",
              "    <tr>\n",
              "      <th>1</th>\n",
              "      <td>It is great</td>\n",
              "      <td>1</td>\n",
              "    </tr>\n",
              "    <tr>\n",
              "      <th>2</th>\n",
              "      <td>It's really nice it works great. You have the ...</td>\n",
              "      <td>1</td>\n",
              "    </tr>\n",
              "    <tr>\n",
              "      <th>3</th>\n",
              "      <td>The kit works fine... simple cheap plastic tho</td>\n",
              "      <td>0</td>\n",
              "    </tr>\n",
              "    <tr>\n",
              "      <th>4</th>\n",
              "      <td>It works better than anything else ive tried</td>\n",
              "      <td>1</td>\n",
              "    </tr>\n",
              "  </tbody>\n",
              "</table>\n",
              "</div>"
            ],
            "text/plain": [
              "                                         review_body  sentiment\n",
              "0   Exactly as described. Good quality. Shipped fast          1\n",
              "1                                        It is great          1\n",
              "2  It's really nice it works great. You have the ...          1\n",
              "3     The kit works fine... simple cheap plastic tho          0\n",
              "4       It works better than anything else ive tried          1"
            ]
          },
          "metadata": {},
          "execution_count": 37
        }
      ]
    },
    {
      "cell_type": "code",
      "metadata": {
        "id": "0mYRnI0oPrVP"
      },
      "source": [
        "train, val, test = np.split(dataset1.sample(frac=1), [int(0.8*len(dataset1)), int(0.2*len(dataset1))])"
      ],
      "execution_count": 39,
      "outputs": []
    },
    {
      "cell_type": "code",
      "metadata": {
        "id": "ex9dI5IJPzFv"
      },
      "source": [
        "def change_to_ds(df):\n",
        "  labels = df.pop('sentiment')\n",
        "  dataset1 = tf.data.Dataset.from_tensor_slices((df,labels))\n",
        "  return dataset1\n",
        "\n",
        "\n",
        "train_dataset = change_to_ds(train)\n",
        "val_dataset = change_to_ds(val)\n",
        "test_dataset = change_to_ds(test)"
      ],
      "execution_count": 40,
      "outputs": []
    },
    {
      "cell_type": "code",
      "metadata": {
        "colab": {
          "base_uri": "https://localhost:8080/"
        },
        "id": "tkpIocL-P6Oe",
        "outputId": "ecbbb741-dd86-452a-848e-33f89a82cc78"
      },
      "source": [
        "type(train_dataset)"
      ],
      "execution_count": 41,
      "outputs": [
        {
          "output_type": "execute_result",
          "data": {
            "text/plain": [
              "tensorflow.python.data.ops.dataset_ops.TensorSliceDataset"
            ]
          },
          "metadata": {},
          "execution_count": 41
        }
      ]
    },
    {
      "cell_type": "code",
      "metadata": {
        "id": "rOqhMDXuP8fY"
      },
      "source": [
        "BUFFER_SIZE = 10000\n",
        "BATCH_SIZE = 64\n",
        "train_dataset = train_dataset.shuffle(BUFFER_SIZE).batch(BATCH_SIZE).prefetch(tf.data.AUTOTUNE)\n",
        "test_dataset = test_dataset.batch(BATCH_SIZE).prefetch(tf.data.AUTOTUNE)"
      ],
      "execution_count": 42,
      "outputs": []
    },
    {
      "cell_type": "code",
      "metadata": {
        "colab": {
          "base_uri": "https://localhost:8080/"
        },
        "id": "lGvDM7cnP-0t",
        "outputId": "4ca40b8e-cf8f-493e-afa4-8f183ca12d2c"
      },
      "source": [
        "for example, label in train_dataset.take(1):\n",
        "  print('text:',example.numpy())\n",
        "  print('label:',label.numpy())"
      ],
      "execution_count": 43,
      "outputs": [
        {
          "output_type": "stream",
          "name": "stdout",
          "text": [
            "text: [[b'Delicious taste and smell wonderfu ltaste  just like lime.']\n",
            " [b\"I'm new to shaving soaps, safety razors, etc. and this is my first shaving brush, so I don't have a good point of comparison. What I've observed with this brush is that, as a few other people have noted, a brownish colour bleeds into the shaving cream in the first few uses. Of course, I cleaned the brush before I used it. Also, I've been using the brush every day for a week and it's still losing a few hairs each shave. It's possible that I am being too aggressive with the brush though.<br /><br />If I am too aggressive, it's because the brush is quite soft and I am cursed with near-steel facial hair and sensitive skin. Getting the hair on my face to lift while trying to avoid overstimulating the skin on my face is a bit of a challenge with a brush as soft as this. That all said, the brush does its job and does not cause any discomfort.<br /><br />Overall, it's a nice brush compared to the brushes I was able to find locally (which were either super-cheap or massively overpriced). Also, it's much much better than fingertips! I think a brush like this may be better for people with finer hair or young people who do not yet get a 5 o'clock shadow, however. I will probably try a boar hair brush next to see if that's more suitable.\"]\n",
            " [b'Boost Ultimate work for me and I like it. You take the pills for 4 weeks and you get your results after 2 weeks. And you also get a free refilled bottle.']\n",
            " [b'Great product ingredients']\n",
            " [b\"Quite likely the best vacation accessory I've ever purchased!  I have 20/20 distance but need a lot of help with the close up reading.  These worked perfect!  The bifocal is discreet and virtually unnoticeable.  It is part of the lens and not some cheap &#34;stick on&#34;.  I used to have to remove my sunglasses and put on my readers to see maps or read while traveling.  Not anymore!  The bifocal is low enough in the lens that it doesn't get in the way.  The glasses came in a nice zippered, semi-hard case that should protect them from scratches.  The wrap around style is perfect for boating and love the polarized lenses when on the water.  No glare.  Sturdy product and should hold up well.\"]\n",
            " [b'Worked like a charm. I am working out while taking the product, it helped me achieving my goals faster.']\n",
            " [b'Very sharp razor still learning how to use it. Once I get it down pack these would be perfect.']\n",
            " [b\"Great so far (only had them for about 2 months). Lasts much longer in our kid's toys than all the non-LSD batteries (even when those were new).\"]\n",
            " [b\"The pillow is very heavy, and loud when you move it around. I'm a side sleeper and when you put your ear next to it and move the pillow it woke me up. I tried to use it for a week and at the end of seven days it was the worst week of sleep I have had. If you sleep on your back and don't move around it might be OK  Kind of like sleeping in sand, that sounds like a rattle.\"]\n",
            " [b'It works simply by providing stamina and energy boost to my body and keeps me concentrated all day.']\n",
            " [b'amazing product...it works!!!']\n",
            " [b\"I have enjoyed sleeping on this pillow. For me, very malleable and supportive: once I push it into place, I sleep very well. HOWEVER every day I wake up with swollen, itchy eyes. Read on Internet about possible allergy not to hulls but to microscopic dust that clings to hulls. Tried putting an allergy cover on pillow only helped a fraction. Going to sleep without it tonight to nite any improvement. I'm very allergy prone so not too surprised. Only sad\"]\n",
            " [b'People keep saying that I does not work but I have been using it for less than a week and I see exceptional growth. I bought it straight from Amazon no other website.']\n",
            " [b\"This black leather watch box is absolutely high quality. The box is well made. The leather is nice and doesn't feel fake. The silver lock closes perfectly and keeps your watches safe. You have a beautiful large display window so you can see all of your watches. You can display them for everyone to see without touching and possibly breaking them. Inside is soft velvet that protects your watches and keeping them in this case allows them to stay clean and dirt free. This box has a very nice elegant look to it that any man or woman would like to display their watches from. I would highly recommend this leather watch box for either yourself or as a gift. You won't be disappointed! I purchased this at a discounted rate in exchange for my honest review. I was not paid or sponsored for my opinions all thoughts reflected in this review are my own.\"]\n",
            " [b'I love this toothbrush! Cleans teeth, gums, and tongue painlessly. I am so glad to have discovered this toothbrush, I will never buy another brand.']\n",
            " [b'Good brush']\n",
            " [b\"FANTASTIC!!  I don't notice the squeak others talk about in their review.  I was initially worried about the mini rollers pinching, but nope!  now if I could just figure out how to get it cold!\"]\n",
            " [b'Absolutely wonderful product. Love it. I made the most amazing tasting chocolate candy bars with this. The taste is so much better than the stuff I bought at the store. Fast delivery. Definitely would recommend to others, and definitely will buy again.  :)']\n",
            " [b'Just started taking this product. Looking forward to seeing the results hopefully soon.']\n",
            " [b'A great tool for self massage.']\n",
            " [b'Very good product, love the fact that they are reversible for different surfaces. If you are looking to up your workouts this is an excellent tool.']\n",
            " [b'I really was not expecting results until about a month like others require you to wait for.']\n",
            " [b\"I have been taking this supplement for a few weeks now. I don't see or feel any difference yet. Some other supplements I have tried, I feel at least some &#34;effect&#34; as soon as I start taking them. I purchased this product based strictly on the user reviews I read online, but I have not seen or felt the kind of results other people have claimed that they have gotten.\"]\n",
            " [b'Works but kind of ackward.']\n",
            " [b\"I ordered these and the next day I was at my eye doctor, who was also selling them. I asked about them and the receptionist told me that they were not going to be selling them anymore because they've had a lot of complaints about the quality.  She said she would not recommend them.<br /><br />Since mine were already on order, I waited to see for myself.  Well...NO GOOD.  Right out of the package, the right side arm would not telescope all the way open. The third segment was jammed.  I even trying pulling it out with a pair of pliers but it wouldn't budge.  The tips did easily come off as well.<br /><br />Needless to say, I returned them for a full refund.  That's the great thing about Amazon, no hassle returns.\"]\n",
            " [b'Good stuff.']\n",
            " [b'As described.']\n",
            " [b'Cutest little case around. Hard to find nowadays!']\n",
            " [b'I experienced some irritation after about a week; but, it seems to give a little lift even with one use, so rather than every day, I can just use it when I want.']\n",
            " [b\"I have been using this for a small scar on my daughter's face. There is a noticeable difference since using this process. I highly recommend it!\"]\n",
            " [b'My husband loves these!']\n",
            " [b'This stuff works really well. It seals up and heals up small cuts very quickly. The only downside I would mention is that it is a little smelly because of all of the essential oils it is made up of.']\n",
            " [b'I was really depressed because of the lack of stamina and energy that I had. I didn\\xe2\\x80\\x99t think that such a pill would be able to help me get the things I lost. After very tragic events I was in this state for quite a while. Now that I\\xe2\\x80\\x99m not depressed anymore I can get prolific again and do the things I wanted/needed to do! Thanks!']\n",
            " [b\"Everybody who has ever had an itching back will want one of these. They're adjustable, sturdy and reasonably priced.\"]\n",
            " [b'Lovely surprise that this pillow is great for a side/belly sleeper!  I swear my back pain has reduced after 2 nights!']\n",
            " [b\"As advertised, this one rolls better than others ( i've bought 3 different brands at the same time).  this one actually piece into the skin due to the spacing of the needle point\"]\n",
            " [b\"It's ok for the price. A bit difficult to clean though.\"]\n",
            " [b'Great product! I play sports 5 nights a week and this shoe freshener does the trick. Keeps my shoes smelling great.']\n",
            " [b'These batteries were recommended to my mother by a hearing aid tech. They really do last longer than the name-brands she bought over the counter in retail stores. The price was right, too. Good deal all around.']\n",
            " [b\"Im giving it 4 out of 5 stars  it came fast and I haven't seen or felt different although i have only been takinh it about a week or so! Ill add more later if i see or feel any major changes\"]\n",
            " [b'Mixed reviews sometimes it works well sometimes not so good.']\n",
            " [b'Nice taste!']\n",
            " [b'Super tasty!']\n",
            " [b'Boys will be boys, I bought this for my husband he is getting older and while his performance is amazing i wanted something to give him a boost and we have tried others claiming to be the best. They weren\\xe2\\x80\\x99t this is the best, His sex drive is amazing, we can go an go most of the night he has gotten bigger and our sex life has gone to new heights thanks to this pill']\n",
            " [b'I ordered the black version of this item and it looked awesome and the adjustable system was nice. But then one day even with the best care the connector pooped off and the button went back in to the case, not to mention the wire popped right off so no chance to fix it. Was not pleased, and will not be buying again.']\n",
            " [b'I recommend this product without reservation. It is very easy to use and convenient to store. The product was delivered to me very quickly without any problems along the way. I would not hesitate to use Santamedical TM  again for any medical needs they offer.']\n",
            " [b'Is good but i have had better. Fresh']\n",
            " [b'I really like this tape measure']\n",
            " [b\"It's ok, but pulse reading does not match one taken with a arm cuff\"]\n",
            " [b'So many ways to tone your entire body. This does it all.']\n",
            " [b'Absolutely amazing testosterone booster. Increased libido and muscle mass as well! Great product! This company is the best!']\n",
            " [b\"Everything in it is decent though I don't really care for the cover of it wish they had options.\"]\n",
            " [b'This oil works well on headaches and other minor pains. I would definitely say that I turn to my oils before meds when fighting a headache.']\n",
            " [b'Great bandages that help speed up recovery. My dad crashed on his bike and busted up his face and got road rash on his legs. He used this to heal quicker and it really seemed to help keep everything sterile and moist to aid in recovery.']\n",
            " [b'fast friendly service great price!']\n",
            " [b'Love the fragrance, bought 3.']\n",
            " [b'Something necessary to prevent or cure some oral issue just massaging the gums . The results are always and for everybody great ! A must to have.']\n",
            " [b\"Very nice product.  I use this in conjunction with my electronic humidifier to help keep it from running.  It works great.  This enables me to leave my humidor when I travel for 30-60 days without maintenance.<br /><br />Without the electronic humidor, you will have a bit less wiggle room, but it's awesome by itself too.\"]\n",
            " [b'Super soft, not binding in any way. Surely will buy more. Best bang for the Buck. Gray part is hidden by your shoe.<br /> Very good cushining on foot pat (Thick).  Wish they made them in brown too?']\n",
            " [b'Very recomended!!!']\n",
            " [b\"You'll definitely feel the results of these fast, extremely effective pills when you try them out for the first time.\"]\n",
            " [b'A bit too oily.']\n",
            " [b'Used it for a month saw good results. Would recommend']\n",
            " [b\"So I got these today and I love them I had to cut them a lil but they feel so real and are  very soft. I have thin hair so they make it look way better and so much longer. I recommend these to anyone who wants longer and more colorful hair. Oh yes I've already straightened them and they look really good\"]]\n",
            "label: [1 1 1 1 1 1 1 1 0 1 1 1 1 1 1 1 1 1 1 1 1 1 0 1 0 1 1 1 1 1 1 1 1 1 1 1 1\n",
            " 1 1 1 1 1 1 1 0 1 1 1 1 1 1 1 1 1 1 1 1 1 1 1 1 1 1 1]\n"
          ]
        }
      ]
    },
    {
      "cell_type": "code",
      "metadata": {
        "id": "somJm70kQDBe"
      },
      "source": [
        "VOCAB_SIZE=1000\n",
        "encoder= tf.keras.layers.TextVectorization(\n",
        "    max_tokens=VOCAB_SIZE)\n",
        "encoder.adapt(train_dataset.map(lambda review_body, label:review_body))"
      ],
      "execution_count": 44,
      "outputs": []
    },
    {
      "cell_type": "code",
      "metadata": {
        "colab": {
          "base_uri": "https://localhost:8080/"
        },
        "id": "XTz4MgHTQFCe",
        "outputId": "9f4e961f-4b7f-4050-e71c-9120a911ba1b"
      },
      "source": [
        "encoded_ex= encoder(example)[:3].numpy()\n",
        "encoded_ex"
      ],
      "execution_count": 45,
      "outputs": [
        {
          "output_type": "execute_result",
          "data": {
            "text/plain": [
              "array([[346, 164,   4, 236,   1,   1,  36,  33,   1,   0,   0,   0,   0,\n",
              "          0,   0,   0,   0,   0,   0,   0,   0,   0,   0,   0,   0,   0,\n",
              "          0,   0,   0,   0,   0,   0,   0,   0,   0,   0,   0,   0,   0,\n",
              "          0,   0,   0,   0,   0,   0,   0,   0,   0,   0,   0,   0,   0,\n",
              "          0,   0,   0,   0,   0,   0,   0,   0,   0,   0,   0,   0,   0,\n",
              "          0,   0,   0,   0,   0,   0,   0,   0,   0,   0,   0,   0,   0,\n",
              "          0,   0,   0,   0,   0,   0,   0,   0,   0,   0,   0,   0,   0,\n",
              "          0,   0,   0,   0,   0,   0,   0,   0,   0,   0,   0,   0,   0,\n",
              "          0,   0,   0,   0,   0,   0,   0,   0,   0,   0,   0,   0,   0,\n",
              "          0,   0,   0,   0,   0,   0,   0,   0,   0,   0,   0,   0,   0,\n",
              "          0,   0,   0,   0,   0,   0,   0,   0,   0,   0,   0,   0,   0,\n",
              "          0,   0,   0,   0,   0,   0,   0,   0,   0,   0,   0,   0,   0,\n",
              "          0,   0,   0,   0,   0,   0,   0,   0,   0,   0,   0,   0,   0,\n",
              "          0,   0,   0,   0,   0,   0,   0,   0,   0,   0,   0,   0,   0,\n",
              "          0,   0,   0,   0,   0,   0,   0,   0,   0,   0,   0,   0,   0,\n",
              "          0,   0,   0,   0,   0,   0,   0,   0,   0,   0,   0,   0,   0,\n",
              "          0,   0,   0,   0,   0,   0,   0,   0,   0,   0,   0,   0,   0,\n",
              "          0,   0,   0,   0,   0,   0,   0,   0,   0,   0,   0,   0,   0,\n",
              "          0],\n",
              "       [ 72, 220,   7, 464,   1,   1, 881, 521,   4,   8,  11,   9,  93,\n",
              "        464, 242,  25,   2,  84,  15,   6,  27, 557,  12,   1,  66,  79,\n",
              "          1,  14,   8, 242,  11,  17,  24,   6, 121,  85, 355,  15,   1,\n",
              "          6,   1,   1,   1, 180,   3, 464, 169,  13,   3,  93, 121, 359,\n",
              "         12, 782,   2,   1,   3, 242, 119,   2,  65,   5,  82,  79,  67,\n",
              "         71,   3, 242, 163,  87,  10,   6, 174,   4,  31, 154,   1,   6,\n",
              "        121,   1, 353, 349,  31, 910,  17,   2,  73, 267,  81,   1,  14,\n",
              "          3, 242,   1,  74,  50,   2,  73,  81,   1,  31,  86,   3, 242,\n",
              "         11, 297, 264,   4,   2,  73,   1,  14,   1,   1, 231,   4, 624,\n",
              "        116, 181,   3, 231,  20,   9, 302,   7,   1, 155, 339,   7,   1,\n",
              "          1,   3, 116,  20,   9, 302,  11,   6, 160,  12,   6,   1,  14,\n",
              "          6, 242,  24, 264,  24,   8,  17,  44, 369,   3, 242,  76,  31,\n",
              "        249,   4,  76,  21, 705,  97,   1,  74, 356,  31,   6, 100, 242,\n",
              "        663,   7,   3,   1,   2,  23, 243,   7, 159,   1, 105, 125, 492,\n",
              "          1,  47,   1,   1,  82,  31,  70,  70,  80,  63,   1,   2, 189,\n",
              "          6, 242,  33,   8, 364,  35,  80,  10, 355,  14,   1, 231,  47,\n",
              "          1, 355, 207,  64,  21, 317,  48,   6, 210,   1,   1, 268,   2,\n",
              "         39, 503, 118,   6,   1, 231, 242, 518,   7, 150,  50, 361,  40,\n",
              "          1],\n",
              "       [143, 506,  56,  10,  28,   4,   2,  33,   5,  22, 136,   3, 232,\n",
              "         10, 281, 162,   4,  22,  48,  57, 122,  53, 142, 162,   4,  22,\n",
              "         82,  48,   6,  99,   1, 102,   0,   0,   0,   0,   0,   0,   0,\n",
              "          0,   0,   0,   0,   0,   0,   0,   0,   0,   0,   0,   0,   0,\n",
              "          0,   0,   0,   0,   0,   0,   0,   0,   0,   0,   0,   0,   0,\n",
              "          0,   0,   0,   0,   0,   0,   0,   0,   0,   0,   0,   0,   0,\n",
              "          0,   0,   0,   0,   0,   0,   0,   0,   0,   0,   0,   0,   0,\n",
              "          0,   0,   0,   0,   0,   0,   0,   0,   0,   0,   0,   0,   0,\n",
              "          0,   0,   0,   0,   0,   0,   0,   0,   0,   0,   0,   0,   0,\n",
              "          0,   0,   0,   0,   0,   0,   0,   0,   0,   0,   0,   0,   0,\n",
              "          0,   0,   0,   0,   0,   0,   0,   0,   0,   0,   0,   0,   0,\n",
              "          0,   0,   0,   0,   0,   0,   0,   0,   0,   0,   0,   0,   0,\n",
              "          0,   0,   0,   0,   0,   0,   0,   0,   0,   0,   0,   0,   0,\n",
              "          0,   0,   0,   0,   0,   0,   0,   0,   0,   0,   0,   0,   0,\n",
              "          0,   0,   0,   0,   0,   0,   0,   0,   0,   0,   0,   0,   0,\n",
              "          0,   0,   0,   0,   0,   0,   0,   0,   0,   0,   0,   0,   0,\n",
              "          0,   0,   0,   0,   0,   0,   0,   0,   0,   0,   0,   0,   0,\n",
              "          0,   0,   0,   0,   0,   0,   0,   0,   0,   0,   0,   0,   0,\n",
              "          0]])"
            ]
          },
          "metadata": {},
          "execution_count": 45
        }
      ]
    },
    {
      "cell_type": "markdown",
      "metadata": {
        "id": "LgxaOVzCQJij"
      },
      "source": [
        "##**Function**"
      ]
    },
    {
      "cell_type": "code",
      "metadata": {
        "id": "YNkNETDxQMIF"
      },
      "source": [
        "EPOCHS=8"
      ],
      "execution_count": 46,
      "outputs": []
    },
    {
      "cell_type": "code",
      "metadata": {
        "id": "aa-g0ul0QPU3"
      },
      "source": [
        "def plot_graphs(history, metric):\n",
        "  plt.plot(history.history[metric])\n",
        "  plt.plot(history.history['val_'+metric],'')\n",
        "  plt.xlabel('Epochs')\n",
        "  plt.ylabel(metric)\n",
        "  plt.legend([metric,'val'+ metric])"
      ],
      "execution_count": 47,
      "outputs": []
    },
    {
      "cell_type": "code",
      "metadata": {
        "id": "RFj4-HnsQTDB"
      },
      "source": [
        "def loss_acc():\n",
        "  test_loss, test_acc = model.evaluate(train_dataset)\n",
        "  print('test loss :', test_loss)\n",
        "  print('test acc :', test_acc)"
      ],
      "execution_count": 48,
      "outputs": []
    },
    {
      "cell_type": "code",
      "metadata": {
        "id": "Q26GyWIkQUM-"
      },
      "source": [
        "def predictions(input_text):\n",
        "  predictions = model.predict(np.array([input_text]))\n",
        "  if predictions > 0:\n",
        "    print ('Sentiment Positive')\n",
        "  else:\n",
        "    print('Sentiment Negative')    "
      ],
      "execution_count": 49,
      "outputs": []
    },
    {
      "cell_type": "code",
      "metadata": {
        "id": "jaiL6ktXQXzJ"
      },
      "source": [
        "def figure():\n",
        "  plt.figure(figsize=(16, 8))\n",
        "  plt.subplot(1, 2, 1)\n",
        "  plot_graphs(history, 'accuracy')\n",
        "  plt.ylim(None, 1)\n",
        "  plt.subplot(1, 2, 2)\n",
        "  plot_graphs(history, 'loss')\n",
        "  plt.ylim(0, None)"
      ],
      "execution_count": 50,
      "outputs": []
    },
    {
      "cell_type": "markdown",
      "metadata": {
        "id": "TfMGmcfOQZaF"
      },
      "source": [
        "##**Modeling**"
      ]
    },
    {
      "cell_type": "code",
      "metadata": {
        "id": "lcAKapqkQkie"
      },
      "source": [
        "model = tf.keras.Sequential([\n",
        "                             encoder,\n",
        "                             tf.keras.layers.Embedding( \n",
        "                                 input_dim= len(encoder.get_vocabulary()),\n",
        "                                 output_dim=64,\n",
        "                                 mask_zero=True\n",
        "                             ),\n",
        "                             tf.keras.layers.Bidirectional(tf.keras.layers.LSTM(64)),\n",
        "                             tf.keras.layers.Dense(64, activation='relu'),\n",
        "                             tf.keras.layers.Dense(1)\n",
        "\n",
        "])"
      ],
      "execution_count": 51,
      "outputs": []
    },
    {
      "cell_type": "code",
      "metadata": {
        "id": "prTHOyfpQokj"
      },
      "source": [
        "model.compile(loss=tf.keras.losses.BinaryCrossentropy(from_logits=True),\n",
        "              optimizer=tf.keras.optimizers.Adam(1e-4),\n",
        "              metrics=['accuracy'])"
      ],
      "execution_count": 52,
      "outputs": []
    },
    {
      "cell_type": "code",
      "metadata": {
        "colab": {
          "base_uri": "https://localhost:8080/"
        },
        "id": "--1to4mAQsAE",
        "outputId": "e42c809a-23cd-471c-d95c-9b417dce4ded"
      },
      "source": [
        "history = model.fit(train_dataset, epochs=EPOCHS,\n",
        "                     validation_data=test_dataset,\n",
        "                     validation_steps= 30,\n",
        "                     verbose=1)"
      ],
      "execution_count": 53,
      "outputs": [
        {
          "output_type": "stream",
          "name": "stdout",
          "text": [
            "Epoch 1/8\n",
            "125/125 [==============================] - 30s 149ms/step - loss: 0.6042 - accuracy: 0.2719 - val_loss: 0.4477 - val_accuracy: 0.6896\n",
            "Epoch 2/8\n",
            "125/125 [==============================] - 15s 123ms/step - loss: 0.4125 - accuracy: 0.7735 - val_loss: 0.3637 - val_accuracy: 0.8589\n",
            "Epoch 3/8\n",
            "125/125 [==============================] - 15s 123ms/step - loss: 0.3416 - accuracy: 0.8680 - val_loss: 0.2983 - val_accuracy: 0.8938\n",
            "Epoch 4/8\n",
            "125/125 [==============================] - 15s 123ms/step - loss: 0.2781 - accuracy: 0.8935 - val_loss: 0.2349 - val_accuracy: 0.9052\n",
            "Epoch 5/8\n",
            "125/125 [==============================] - 15s 121ms/step - loss: 0.2293 - accuracy: 0.9122 - val_loss: 0.1974 - val_accuracy: 0.9182\n",
            "Epoch 6/8\n",
            "125/125 [==============================] - 15s 120ms/step - loss: 0.1982 - accuracy: 0.9183 - val_loss: 0.1723 - val_accuracy: 0.9260\n",
            "Epoch 7/8\n",
            "125/125 [==============================] - 15s 121ms/step - loss: 0.1736 - accuracy: 0.9264 - val_loss: 0.1562 - val_accuracy: 0.9307\n",
            "Epoch 8/8\n",
            "125/125 [==============================] - 15s 121ms/step - loss: 0.1597 - accuracy: 0.9309 - val_loss: 0.1437 - val_accuracy: 0.9365\n"
          ]
        }
      ]
    },
    {
      "cell_type": "code",
      "metadata": {
        "colab": {
          "base_uri": "https://localhost:8080/"
        },
        "id": "f3TooCmMRcpT",
        "outputId": "83ef6c89-b809-48cb-b789-bf0330497b80"
      },
      "source": [
        "loss_acc()"
      ],
      "execution_count": 54,
      "outputs": [
        {
          "output_type": "stream",
          "name": "stdout",
          "text": [
            "125/125 [==============================] - 5s 43ms/step - loss: 0.1498 - accuracy: 0.9352\n",
            "test loss : 0.14976248145103455\n",
            "test acc : 0.9352499842643738\n"
          ]
        }
      ]
    },
    {
      "cell_type": "code",
      "metadata": {
        "colab": {
          "base_uri": "https://localhost:8080/",
          "height": 501
        },
        "id": "3IPpqUZlRfMf",
        "outputId": "08f44ced-3de8-430b-990a-0830bcdbf195"
      },
      "source": [
        "figure()"
      ],
      "execution_count": 55,
      "outputs": [
        {
          "output_type": "display_data",
          "data": {
            "image/png": "[encoded data removed]",
            "text/plain": [
              "<Figure size 1152x576 with 2 Axes>"
            ]
          },
          "metadata": {
            "needs_background": "light"
          }
        }
      ]
    },
    {
      "cell_type": "code",
      "metadata": {
        "colab": {
          "base_uri": "https://localhost:8080/"
        },
        "id": "FP3jNBFtRlTo",
        "outputId": "5a789d33-7c90-4f35-803d-c52b8bec675d"
      },
      "source": [
        "predictions('Amazing Product')"
      ],
      "execution_count": 57,
      "outputs": [
        {
          "output_type": "stream",
          "name": "stdout",
          "text": [
            "Sentiment Positive\n"
          ]
        }
      ]
    },
    {
      "cell_type": "code",
      "metadata": {
        "colab": {
          "base_uri": "https://localhost:8080/"
        },
        "id": "wL30EtAJSxGj",
        "outputId": "13677077-e93a-48c0-944e-d0cc5fc56913"
      },
      "source": [
        "predictions(\"Bad\")"
      ],
      "execution_count": 66,
      "outputs": [
        {
          "output_type": "stream",
          "name": "stdout",
          "text": [
            "Sentiment Negative\n"
          ]
        }
      ]
    }
  ]
}